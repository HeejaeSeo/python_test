{
 "cells": [
  {
   "cell_type": "code",
   "execution_count": 1,
   "metadata": {},
   "outputs": [],
   "source": [
    "class Test :\n",
    "    default = \"parent\"\n",
    "\n",
    "    def __init__(self) :\n",
    "        self.data = self.default\n",
    "\n",
    "    @classmethod\n",
    "    def class_test(cls) :\n",
    "        return cls()\n",
    "\n",
    "    @staticmethod\n",
    "    def static_test() :\n",
    "        return Test()"
   ]
  },
  {
   "cell_type": "code",
   "execution_count": 2,
   "metadata": {},
   "outputs": [],
   "source": [
    "class ChildTest(Test) :\n",
    "    default = \"child\""
   ]
  },
  {
   "cell_type": "code",
   "execution_count": 3,
   "metadata": {},
   "outputs": [],
   "source": [
    "test1 = ChildTest.class_test()\n",
    "test2 = ChildTest.static_test()"
   ]
  },
  {
   "cell_type": "code",
   "execution_count": 4,
   "metadata": {},
   "outputs": [
    {
     "data": {
      "text/plain": [
       "'child'"
      ]
     },
     "execution_count": 4,
     "metadata": {},
     "output_type": "execute_result"
    }
   ],
   "source": [
    "test1.default"
   ]
  },
  {
   "cell_type": "code",
   "execution_count": 5,
   "metadata": {},
   "outputs": [
    {
     "data": {
      "text/plain": [
       "'parent'"
      ]
     },
     "execution_count": 5,
     "metadata": {},
     "output_type": "execute_result"
    }
   ],
   "source": [
    "test2.default"
   ]
  },
  {
   "cell_type": "markdown",
   "metadata": {},
   "source": [
    "# @classmethod의 필요성"
   ]
  },
  {
   "attachments": {},
   "cell_type": "markdown",
   "metadata": {},
   "source": [
    "## -1. Class 변수에 접근해 **공통된 변화를** 주는 활용\n",
    "- ex. 여러 계좌에 대해 이자율을 동일하게 변경할 경우"
   ]
  },
  {
   "cell_type": "code",
   "execution_count": 6,
   "metadata": {},
   "outputs": [],
   "source": [
    "class Account :\n",
    "    interest_rate: float = 0.1\n",
    "\n",
    "    def __init__(self, amount : int) :\n",
    "        self.amount = amount\n",
    "    \n",
    "    @classmethod\n",
    "    def change_rate(cls, target_rate : float) :\n",
    "        cls.interest_rate = target_rate\n",
    "\n",
    "    def give_interest(self) :\n",
    "        self.amount += int(self.amount * self.interest_rate)"
   ]
  },
  {
   "cell_type": "code",
   "execution_count": 7,
   "metadata": {},
   "outputs": [
    {
     "name": "stdout",
     "output_type": "stream",
     "text": [
      "account1.amount : 100000\n",
      "account2.amount : 1000\n"
     ]
    }
   ],
   "source": [
    "account1 = Account(100000)\n",
    "account2 = Account(1000)\n",
    "\n",
    "print(f\"account1.amount : {account1.amount}\")\n",
    "print(f\"account2.amount : {account2.amount}\")"
   ]
  },
  {
   "cell_type": "code",
   "execution_count": 8,
   "metadata": {},
   "outputs": [
    {
     "name": "stdout",
     "output_type": "stream",
     "text": [
      "account1.amount : 110000\n",
      "account2.amount : 1100\n"
     ]
    }
   ],
   "source": [
    "account1.give_interest()\n",
    "account2.give_interest()\n",
    "\n",
    "print(f\"account1.amount : {account1.amount}\")\n",
    "print(f\"account2.amount : {account2.amount}\")"
   ]
  },
  {
   "cell_type": "code",
   "execution_count": 9,
   "metadata": {},
   "outputs": [
    {
     "name": "stdout",
     "output_type": "stream",
     "text": [
      "account1.amount : 132000\n",
      "account2.amount : 1320\n"
     ]
    }
   ],
   "source": [
    "Account.change_rate(0.2)\n",
    "\n",
    "account1.give_interest()\n",
    "account2.give_interest()\n",
    "\n",
    "print(f\"account1.amount : {account1.amount}\")\n",
    "print(f\"account2.amount : {account2.amount}\")"
   ]
  },
  {
   "attachments": {},
   "cell_type": "markdown",
   "metadata": {},
   "source": [
    "## -2. 생성자를 wrapping 하는 용도\n",
    "- ex. 특정 객체를 여러 입력 형태로 생성할 경우"
   ]
  },
  {
   "cell_type": "code",
   "execution_count": 12,
   "metadata": {},
   "outputs": [],
   "source": [
    "class Birthday :\n",
    "\n",
    "    def __init__(self, birth_year : int, birth_month : int, birth_date : int) :\n",
    "        self.year = birth_year\n",
    "        self.month = birth_month\n",
    "        self.date = birth_date\n",
    "\n",
    "    @classmethod\n",
    "    def by_security_number(cls, security_number : str) :\n",
    "        birth_year = 1900 + int(security_number[:2])\n",
    "        birth_month = 1900 + int(security_number[2:4])\n",
    "        birth_date = 1900 + int(security_number[4:6])\n",
    "\n",
    "        return cls(birth_year, birth_month, birth_date)"
   ]
  },
  {
   "cell_type": "code",
   "execution_count": 14,
   "metadata": {},
   "outputs": [
    {
     "name": "stdout",
     "output_type": "stream",
     "text": [
      "1999\n",
      "1999\n"
     ]
    }
   ],
   "source": [
    "birth1 = Birthday(1999, 1, 31)\n",
    "birth2 = Birthday.by_security_number(\"990131\")\n",
    "\n",
    "print(birth1.year)\n",
    "print(birth2.year)"
   ]
  },
  {
   "cell_type": "code",
   "execution_count": null,
   "metadata": {},
   "outputs": [],
   "source": []
  }
 ],
 "metadata": {
  "kernelspec": {
   "display_name": "Python 3",
   "language": "python",
   "name": "python3"
  },
  "language_info": {
   "codemirror_mode": {
    "name": "ipython",
    "version": 3
   },
   "file_extension": ".py",
   "mimetype": "text/x-python",
   "name": "python",
   "nbconvert_exporter": "python",
   "pygments_lexer": "ipython3",
   "version": "3.9.13"
  },
  "orig_nbformat": 4,
  "vscode": {
   "interpreter": {
    "hash": "aee8b7b246df8f9039afb4144a1f6fd8d2ca17a180786b69acc140d282b71a49"
   }
  }
 },
 "nbformat": 4,
 "nbformat_minor": 2
}
